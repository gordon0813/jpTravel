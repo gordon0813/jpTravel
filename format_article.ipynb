{
 "cells": [
  {
   "cell_type": "code",
   "execution_count": 70,
   "metadata": {},
   "outputs": [],
   "source": [
    "for i in range(1,38251):\n",
    "    try:\n",
    "        s=read_and_format(i)\n",
    "        with open(\"D:/data/final_java_project/sep/\"+str(i)+\".txt\",\"w\",encoding=\"UTF8\") as file:\n",
    "            file.write(s)\n",
    "    except:\n",
    "        print(\"error:\" +str(i))\n",
    "        "
   ]
  },
  {
   "cell_type": "code",
   "execution_count": 67,
   "metadata": {},
   "outputs": [],
   "source": [
    "def read_and_format(i):\n",
    "    \n",
    "    with open (\"D:/data/other_data/final_java_project/sep/\"+str(i)+\".txt\",\"r\",encoding=\"UTF8\") as file:\n",
    "        tempS=\"\"\n",
    "        output=\"\"\n",
    "        while(True):\n",
    "            s=file.readline()\n",
    "            s=s.replace(\"\\n\",\"\")\n",
    "            s=s.replace(\"\\r\",\"\")\n",
    "            if(not s):\n",
    "                if(tempS!=\"\"):\n",
    "                    output= output+\"\\n\"+tempS\n",
    "                break\n",
    "            #tempS+=s\n",
    "            #print(len(tempS))\n",
    "            if(len(s)>70):\n",
    "                if(tempS!=\"\"):\n",
    "                    output= output+\"\\n\"+tempS+\"\\n\"+s\n",
    "                else:\n",
    "                    output=output+\"\\n\"+s\n",
    "                tempS=\"\"\n",
    "            elif(len(tempS)+len(s)>70):\n",
    "                tempS+=s\n",
    "                output= output+\"\\n\"+tempS\n",
    "                tempS=\"\"\n",
    "            else:\n",
    "                tempS+=s\n",
    "            \n",
    "    return output\n"
   ]
  },
  {
   "cell_type": "code",
   "execution_count": 68,
   "metadata": {},
   "outputs": [
    {
     "name": "stdout",
     "output_type": "stream",
     "text": [
      "\n",
      "圖文,n,版,n,網誌,nz,日期,n,:,w,2019,m,\n",
      "JR,nx,大,a,阪,n,、,w,京都,ns,站,v,出發,v,搭乘,v,新,a,快速,d,到,v,近,a,江,nr,今,tg,津,j,站,v,之,u,後,f,\n",
      "走,v,西出口,nr,在,p,二,m,號,q,巴士,n,搭乘,v,處,n,搭乘,v,巴士,n,到,v,纜車,n,站,v,之後,f,搭乘,v,上山,v,纜車,n,就,d,到,v,滑雪場,n,\n",
      "巴士一,nr,趟,q,是,v,220,m,日幣,nz,\n",
      "如果,c,是,v,從,p,大,a,阪,n,、,w,神戶,ns,出發,v,可以,v,買,v,JR,nx,WEST,nx,PASS,nx,一,m,日,j,卷,q,(,w,2200,m,),w,\n",
      "留學生,n,、,w,打工,v,度假,vn,、,w,日本,ns,工作,vn,不,d,能,v,買,v,JR,nx,PASS,nx,的,uj,人,n,也,d,可以,v,買,v,関西,ns,1,m,デイパス,w,(,w,3600,m,),w,\n",
      "因為,c,從,p,大,a,阪,n,出發,v,到,v,近,a,江,nr,今,tg,津,j,單,d,趟,q,就,d,要,v,1940,m,日幣,nz,\n",
      "只要,c,來回,v,一,m,趟,q,就,d,比,p,pass,nx,還,d,貴,a,了,ul,\n",
      "從,p,近,a,江,nr,今,tg,津,j,到,v,箱,q,館,ng,山,n,滑雪場,n,的,uj,巴士,n,平均,a,一,m,小時,n,才一,nr,班,n,車,n,\n",
      "所以,c,到,v,站,v,後,f,大家,r,都,d,是,v,想,v,辦法,n,要,v,擠上,nz,車,n,回程,n,的,uj,時候,n,找,v,到,v,人,n,共,d,四,m,個,q,人,n,分,q,計程車,n,\n",
      "最後,f,一個,mq,人,n,大概,d,是,v,五百,m,日幣,nz,如果,c,有,v,四,m,個,q,人,n,以,p,上,f,不想,v,等,u,可以,v,考慮,v,計程車,n,\n",
      "參考,v,資料,n,:,w,箱,q,館,ng,山,n,滑雪場,n,官網,n,~,nx,交通,n,資訊,n,春,tg,の,w,関西,ns,１,m,デイパス,w,（,w,日文,nz,JR,nx,官網,n,）,w,關西,ns,各個,r,滑雪場,n,的,uj,資訊,n,簡介,n,(,w,日文,nz,但是,c,有,v,漢字,nz,應該,v,不,d,難懂,a,),w,\n",
      "以下,f,是,v,先前,t,整理,v,過,ug,的,uj,滑雪,vn,相關,v,的,uj,日文,nz,以及,c,一些,m,買,v,滑雪,vn,裝備,n,的,uj,心得,n,\n",
      "裝備,n,(,w,雙腳,n,式,k,非,h,滑雪板,n,傳統,n,滑雪,vn,):,w,滑雪,vn,的,uj,裝備,n,一般,a,在,p,滑雪場,n,可以,v,租,v,到,v,的,uj,是,v,\n",
      "滑雪鞋,n,(,w,ブーツ,w,)、,w,滑雪板,n,(,w,板,ng,)、,w,以及,c,滑雪,vn,手杖,n,(,w,ストック,w,)、,w,滑雪,vn,衣褲,n,(,w,ウェア,w,上,f,+,w,下,f,),w,\n",
      "另外,c,還有,v,護目鏡,n,(,w,ゴーグ,w,ル,n,)、,w,毛帽,nz,(,w,帽子,n,)、,w,手套,n,(,w,手袋,n,),w,只,d,有,v,一些,m,滑雪場,n,可以,v,租,v,\n",
      "如果,c,去,v,的,uj,滑雪場,n,沒有,v,租,v,要買,nz,的,uj,話,n,可以,v,直接,ad,從,p,亞馬遜,nrf,上網,v,購,vg,\n",
      "把,p,護目鏡,n,的,uj,日文,nz,打進,v,去,v,這,r,是,v,我,r,搜尋,v,後,f,的,uj,網址,n,(,w,goo,nx,.,w,gl,nx,\n",
      "VT,nx,58,m,Mu,nx,),w,\n",
      "這次,r,從,p,亞馬遜,nrf,網購,v,的,uj,護目鏡,n,以及,c,手套,n,組,q,加,v,起來,v,是,v,2000,m,日幣,nz,左右,m,就,d,非常,d,好,a,用,p,啦,y,!,w,\n",
      "而且,c,刷卡,vi,後,f,兩,m,天,q,以內,f,就,d,可以,v,送到,v,選擇,v,的,uj,便利,a,商店,n,非常,d,方便,a,\n",
      "在,p,亞馬遜,nrf,上面,f,看到,v,有人,r,對,p,便宜,a,滑雪,vn,護目鏡,n,的,uj,評價,v,是,v,戴眼鏡,nz,的,uj,人,n,無法,v,使用,v,\n",
      "其實,d,我,r,也,d,是,v,有,v,戴眼鏡,nz,的,uj,但是,c,因為,c,護目鏡,n,的,uj,鬆緊帶,n,可以,v,調,v,因此,c,先,d,戴眼鏡,nz,再,d,帶,v,滑雪,vn,護目鏡,n,是,v,沒有,v,問題,n,的,uj,\n",
      "這次,r,從,p,臺灣,ns,來,v,的,uj,朋友,n,也,d,是,v,直接,ad,在,p,亞馬遜,nrf,購買,v,之後,f,寄到,nz,飯店,n,\n",
      "護目鏡,n,跟手,d,套用,vn,起來,v,也,d,還,d,算,v,滿意,v,不,d,過,ug,不想,v,花,v,太多,ad,錢買,nr,超高,b,級,q,的,uj,\n",
      "覺得,v,亞馬遜,nrf,的,uj,應該,v,就,d,是,v,很,d,不錯,a,的,uj,選擇,v,除了,p,以上,f,這些,r,之外,f,還有,v,一個,mq,東西,n,其實,d,也,d,很,d,重要,a,\n",
      "就,d,是,v,防止,v,滑雪,vn,護目鏡,n,反,v,潮起,nz,霧,n,的,uj,噴霧,vi,如果,c,有,v,戴眼鏡,nz,建議,n,是,v,要買,nz,一罐,nz,\n",
      "不然,c,戴眼鏡,nz,再,d,戴,v,護目鏡,n,整個,b,起,v,霧,n,完全,ad,看不到,v,前面,f,這個,r,東西,n,在,p,日本,ns,的,uj,眼鏡,n,行都,n,可以,v,買,v,到,v,\n",
      "叫做,v,「,w,曇,n,止,v,め,w,くもりどめ,w,」,w,在,p,日本,ns,買,v,的,uj,噴霧,vi,竟然,d,還,d,是,v,臺灣,ns,產,v,的,uj,呢,y,\n",
      "一罐,nz,大概,d,600,m,多,m,日幣,nz,左右,m,噴,v,了,ul,以後,f,可,v,以,p,至少,d,撐,v,半天,mq,以上,f,都,d,不,d,會,v,起,v,霧,n,\n",
      "想,v,到,v,今年,t,都還沒,nr,去,v,滑雪,vn,已經,d,準備,v,進入,v,春季,t,了,ul,\n",
      "趁,p,有空,v,去,v,琵琶湖,nz,的,uj,箱,q,館,ng,山,n,滑雪場,n,複習,vn,一下,m,滑雪,vn,的,uj,感覺,n,\n",
      "擠,v,了,ul,沙丁魚,n,公車,n,到,v,纜車,n,站,v,又,d,排,v,完,v,隊,n,買了,v,套票,nz,後,f,終於,d,搭,v,上,f,纜車,n,\n",
      "搭乘,v,纜車,n,到,v,滑雪場,n,之後,f,左轉,nz,先,d,去,v,租,v,裝備,n,的,uj,小屋,n,填寫,v,單子,n,\n",
      "單子,n,上,f,的,uj,スキーセット,w,是,v,普通,a,滑雪,vn,套裝,n,、,w,スノーボードセット,w,是,v,滑雪板,n,套裝,n,\n",
      "我們,r,選,v,了,ul,普通,a,滑雪,vn,套裝,n,選,v,完,v,裝備,n,後,f,可以,v,到,v,另外,c,一,m,間,f,屋子,n,更衣,v,\n",
      "之後,f,再,d,到,v,外面,f,穿,v,上,f,滑雪鞋,n,就,d,可以,v,出發,v,滑雪,vn,去,v,\n",
      "其實,d,在,p,選,v,滑雪場,n,的,uj,時候,n,要,v,非常,d,注意,v,滑雪,vn,道,q,對,p,初學者,n,友,ng,不,d,友善,an,\n",
      "雖然,c,箱,q,館,ng,山,n,的,uj,初學者,n,滑雪,vn,道,q,有,v,兩,m,條,q,但是,c,因為,c,滑雪,vn,道,q,很,d,寬廣,a,而且,c,長度,n,不,d,長,a,\n",
      "對於,p,初學者,n,來說,u,算是,v,友善,an,的,uj,滑雪場,n,不過,c,這,r,次,q,發現,v,如果,c,滑雪場,n,的,uj,初學者,n,超級,b,多,m,的,uj,時候,n,\n",
      "有時候,d,也,d,很,d,危險,an,因為,c,可能會,nz,在,p,你,r,滑,v,的,uj,動線,nz,上,f,突然,ad,停下來,nz,\n",
      "變,v,成為,v,了,ul,怕,v,撞,v,成一團,nr,就,d,要點,n,滿,a,閃避,v,另外,c,當天,t,要,v,滑,v,初雪,n,者,k,路線,n,的,uj,人,n,超,v,多,m,\n",
      "所以,c,光是,d,排隊,v,搭,v,纜車,n,到,v,搭,v,上,f,纜車,n,一,m,趟,q,20,m,分鐘,q,使得,v,一整天,mq,也,d,很難,d,滑,v,很多,m,趟,q,\n",
      "因為,c,有,v,不少,mq,時間,n,在,p,排隊,v,這次,r,已經,d,比較,d,能,v,控制,v,自己,r,的,uj,速度,n,以及,c,方向,n,\n",
      "但是,c,好幾次,d,遇到,v,前面,f,滑雪板,n,的,uj,人,n,跌倒,v,以後,f,就,d,直接,ad,坐,v,在,p,面前,f,爲了,p,怕,v,撞到,v,最後,f,使,v,出,v,吃奶,nz,的,uj,力氣,n,轉彎,v,的,uj,驚險,a,事件,n,\n",
      "另外,c,今年,t,冬季,t,算是,v,非常,d,溫暖,an,所以,c,積雪,n,量,n,不,d,多,m,當天,t,甚至,d,有些,r,地方,n,都,d,可以,v,看到,v,泥,n,土地,n,\n",
      "也,d,因此,c,箱,q,館,ng,山,n,當天,t,的,uj,雪,n,其實,d,比較,d,像,v,剉,n,冰,n,滑,v,起來,v,的,uj,感覺,n,沒有,v,剛下,nr,的,uj,細,a,雪,n,來,v,的,uj,好,a,\n",
      "箱,q,館,ng,山,n,滑雪場,n,的,uj,視野,n,超級,b,好,a,當天,t,天氣,n,超,v,好,a,可以,v,直接,ad,看,v,到,v,下面,f,的,uj,琵琶湖,nz,\n",
      "即使,c,不,d,是,v,來,v,滑雪,vn,搭,v,纜車,n,上來,v,玩,v,雪,n,拍照,v,其實,d,也,d,是,v,很,d,棒,a,的,uj,\n",
      "~THE,nx,END~,nx,\n"
     ]
    }
   ],
   "source": [
    "print(read_and_format(8))"
   ]
  },
  {
   "cell_type": "code",
   "execution_count": null,
   "metadata": {},
   "outputs": [],
   "source": []
  }
 ],
 "metadata": {
  "kernelspec": {
   "display_name": "Python 3",
   "language": "python",
   "name": "python3"
  },
  "language_info": {
   "codemirror_mode": {
    "name": "ipython",
    "version": 3
   },
   "file_extension": ".py",
   "mimetype": "text/x-python",
   "name": "python",
   "nbconvert_exporter": "python",
   "pygments_lexer": "ipython3",
   "version": "3.6.4"
  }
 },
 "nbformat": 4,
 "nbformat_minor": 2
}
